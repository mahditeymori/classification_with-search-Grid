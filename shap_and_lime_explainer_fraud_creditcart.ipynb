{
  "metadata": {
    "kernelspec": {
      "display_name": "base",
      "language": "python",
      "name": "python3"
    },
    "language_info": {
      "codemirror_mode": {
        "name": "ipython",
        "version": 3
      },
      "file_extension": ".py",
      "mimetype": "text/x-python",
      "name": "python",
      "nbconvert_exporter": "python",
      "pygments_lexer": "ipython3",
      "version": "3.11.5"
    },
    "kaggle": {
      "accelerator": "none",
      "dataSources": [
        {
          "sourceId": 23498,
          "sourceType": "datasetVersion",
          "datasetId": 310
        }
      ],
      "dockerImageVersionId": 30746,
      "isInternetEnabled": true,
      "language": "python",
      "sourceType": "notebook",
      "isGpuEnabled": false
    },
    "colab": {
      "name": "shap and lime explainer fraud creditcart",
      "provenance": [],
      "include_colab_link": true
    }
  },
  "nbformat_minor": 0,
  "nbformat": 4,
  "cells": [
    {
      "cell_type": "markdown",
      "metadata": {
        "id": "view-in-github",
        "colab_type": "text"
      },
      "source": [
        "<a href=\"https://colab.research.google.com/github/mahditeymori/classification_with-search-Grid/blob/main/shap_and_lime_explainer_fraud_creditcart.ipynb\" target=\"_parent\"><img src=\"https://colab.research.google.com/assets/colab-badge.svg\" alt=\"Open In Colab\"/></a>"
      ]
    },
    {
      "source": [
        "\n",
        "# IMPORTANT: RUN THIS CELL IN ORDER TO IMPORT YOUR KAGGLE DATA SOURCES\n",
        "# TO THE CORRECT LOCATION (/kaggle/input) IN YOUR NOTEBOOK,\n",
        "# THEN FEEL FREE TO DELETE THIS CELL.\n",
        "# NOTE: THIS NOTEBOOK ENVIRONMENT DIFFERS FROM KAGGLE'S PYTHON\n",
        "# ENVIRONMENT SO THERE MAY BE MISSING LIBRARIES USED BY YOUR\n",
        "# NOTEBOOK.\n",
        "\n",
        "import os\n",
        "import sys\n",
        "from tempfile import NamedTemporaryFile\n",
        "from urllib.request import urlopen\n",
        "from urllib.parse import unquote, urlparse\n",
        "from urllib.error import HTTPError\n",
        "from zipfile import ZipFile\n",
        "import tarfile\n",
        "import shutil\n",
        "\n",
        "CHUNK_SIZE = 40960\n",
        "DATA_SOURCE_MAPPING = 'creditcardfraud:https%3A%2F%2Fstorage.googleapis.com%2Fkaggle-data-sets%2F310%2F23498%2Fbundle%2Farchive.zip%3FX-Goog-Algorithm%3DGOOG4-RSA-SHA256%26X-Goog-Credential%3Dgcp-kaggle-com%2540kaggle-161607.iam.gserviceaccount.com%252F20240821%252Fauto%252Fstorage%252Fgoog4_request%26X-Goog-Date%3D20240821T122601Z%26X-Goog-Expires%3D259200%26X-Goog-SignedHeaders%3Dhost%26X-Goog-Signature%3D46c3e4e76aaa26ee134603094a16b2059675c055813d44119bfaf354b86813a4a6de6630a4563d4477e630dbb329c9752e47c60e207d3043169ffb3c21c05db93966a00fb7530d9d1e48ed501147e2d67a56bb4a866c6b8818a6ccd12fe0ae1d2ffee247897877369f85be1cb7dbfecde5073caffe93e3b621bf3409d00c9e0ddf7445e00ddd58f1a5cbcbbb8b09a87909f2cc940c8381e31aa4b5a39f829a01acf0520d02d6cb24e00a91b0dd5f76bd04a32ca04bfee37c80e8d4b7c24cf3056ff7d4f2feab0483eda6e1debae06ec2f4966783a9bbdde4305572d0435b87d8a2a05e7aaf07b4249dceb62a8468ccd3cc8d4b5e6d39c2fb4ea522574b955a2f'\n",
        "\n",
        "KAGGLE_INPUT_PATH='/kaggle/input'\n",
        "KAGGLE_WORKING_PATH='/kaggle/working'\n",
        "KAGGLE_SYMLINK='kaggle'\n",
        "\n",
        "!umount /kaggle/input/ 2> /dev/null\n",
        "shutil.rmtree('/kaggle/input', ignore_errors=True)\n",
        "os.makedirs(KAGGLE_INPUT_PATH, 0o777, exist_ok=True)\n",
        "os.makedirs(KAGGLE_WORKING_PATH, 0o777, exist_ok=True)\n",
        "\n",
        "try:\n",
        "  os.symlink(KAGGLE_INPUT_PATH, os.path.join(\"..\", 'input'), target_is_directory=True)\n",
        "except FileExistsError:\n",
        "  pass\n",
        "try:\n",
        "  os.symlink(KAGGLE_WORKING_PATH, os.path.join(\"..\", 'working'), target_is_directory=True)\n",
        "except FileExistsError:\n",
        "  pass\n",
        "\n",
        "for data_source_mapping in DATA_SOURCE_MAPPING.split(','):\n",
        "    directory, download_url_encoded = data_source_mapping.split(':')\n",
        "    download_url = unquote(download_url_encoded)\n",
        "    filename = urlparse(download_url).path\n",
        "    destination_path = os.path.join(KAGGLE_INPUT_PATH, directory)\n",
        "    try:\n",
        "        with urlopen(download_url) as fileres, NamedTemporaryFile() as tfile:\n",
        "            total_length = fileres.headers['content-length']\n",
        "            print(f'Downloading {directory}, {total_length} bytes compressed')\n",
        "            dl = 0\n",
        "            data = fileres.read(CHUNK_SIZE)\n",
        "            while len(data) > 0:\n",
        "                dl += len(data)\n",
        "                tfile.write(data)\n",
        "                done = int(50 * dl / int(total_length))\n",
        "                sys.stdout.write(f\"\\r[{'=' * done}{' ' * (50-done)}] {dl} bytes downloaded\")\n",
        "                sys.stdout.flush()\n",
        "                data = fileres.read(CHUNK_SIZE)\n",
        "            if filename.endswith('.zip'):\n",
        "              with ZipFile(tfile) as zfile:\n",
        "                zfile.extractall(destination_path)\n",
        "            else:\n",
        "              with tarfile.open(tfile.name) as tarfile:\n",
        "                tarfile.extractall(destination_path)\n",
        "            print(f'\\nDownloaded and uncompressed: {directory}')\n",
        "    except HTTPError as e:\n",
        "        print(f'Failed to load (likely expired) {download_url} to path {destination_path}')\n",
        "        continue\n",
        "    except OSError as e:\n",
        "        print(f'Failed to load {download_url} to path {destination_path}')\n",
        "        continue\n",
        "\n",
        "print('Data source import complete.')\n"
      ],
      "metadata": {
        "id": "znctia-F5rw2"
      },
      "cell_type": "code",
      "outputs": [],
      "execution_count": null
    },
    {
      "cell_type": "code",
      "source": [
        "# This Python 3 environment comes with many helpful analytics libraries installed\n",
        "# It is defined by the kaggle/python Docker image: https://github.com/kaggle/docker-python\n",
        "# For example, here's several helpful packages to load\n",
        "\n",
        "import numpy as np # linear algebra\n",
        "import pandas as pd # data processing, CSV file I/O (e.g. pd.read_csv)\n",
        "\n",
        "# Input data files are available in the read-only \"../input/\" directory\n",
        "# For example, running this (by clicking run or pressing Shift+Enter) will list all files under the input directory\n",
        "\n",
        "import os\n",
        "for dirname, _, filenames in os.walk('/kaggle/input'):\n",
        "    for filename in filenames:\n",
        "        print(os.path.join(dirname, filename))\n",
        "\n",
        "# You can write up to 20GB to the current directory (/kaggle/working/) that gets preserved as output when you create a version using \"Save & Run All\"\n",
        "# You can also write temporary files to /kaggle/temp/, but they won't be saved outside of the current session"
      ],
      "metadata": {
        "trusted": true,
        "id": "ZtVczCiV5rw4"
      },
      "execution_count": null,
      "outputs": []
    },
    {
      "cell_type": "code",
      "source": [
        "# Import necessary libraries for data processing, modeling, and visualization\n",
        "import pandas as pd\n",
        "import numpy as np\n",
        "import matplotlib.pyplot as plt\n",
        "from sklearn.model_selection import train_test_split\n",
        "from sklearn.preprocessing import StandardScaler\n",
        "import seaborn as sns\n",
        "from sklearn.model_selection import GridSearchCV\n",
        "from sklearn.linear_model import LogisticRegression\n",
        "from sklearn.tree import DecisionTreeClassifier\n",
        "from sklearn.ensemble import RandomForestClassifier\n",
        "from sklearn.svm import SVC\n",
        "from sklearn.neighbors import KNeighborsClassifier\n",
        "from sklearn.metrics import confusion_matrix, classification_report\n",
        "from sklearn.metrics import accuracy_score\n",
        "from xgboost import XGBClassifier\n",
        "from sklearn.tree import plot_tree\n",
        "from tensorflow.keras.models import Sequential\n",
        "from tensorflow.keras.layers import Dense, Dropout\n",
        "from tensorflow.keras.utils import to_categorical\n",
        "from tensorflow.keras.callbacks import EarlyStopping\n",
        "data=pd.read_csv(\"/kaggle/input/creditcardfraud/creditcard.csv\")"
      ],
      "metadata": {
        "execution": {
          "iopub.status.busy": "2024-08-21T12:17:47.477289Z",
          "iopub.execute_input": "2024-08-21T12:17:47.477694Z",
          "iopub.status.idle": "2024-08-21T12:18:04.694267Z",
          "shell.execute_reply.started": "2024-08-21T12:17:47.477656Z",
          "shell.execute_reply": "2024-08-21T12:18:04.693046Z"
        },
        "trusted": true,
        "id": "6c6RS8xJ5rw4"
      },
      "execution_count": null,
      "outputs": []
    },
    {
      "cell_type": "code",
      "source": [
        "data.info()"
      ],
      "metadata": {
        "execution": {
          "iopub.status.busy": "2024-08-21T12:18:04.695646Z",
          "iopub.execute_input": "2024-08-21T12:18:04.695992Z",
          "iopub.status.idle": "2024-08-21T12:18:04.741321Z",
          "shell.execute_reply.started": "2024-08-21T12:18:04.695964Z",
          "shell.execute_reply": "2024-08-21T12:18:04.740191Z"
        },
        "trusted": true,
        "id": "NXCeO4sK5rw4"
      },
      "execution_count": null,
      "outputs": []
    },
    {
      "cell_type": "code",
      "source": [
        "data.describe()"
      ],
      "metadata": {
        "execution": {
          "iopub.status.busy": "2024-08-21T12:18:04.742504Z",
          "iopub.execute_input": "2024-08-21T12:18:04.742824Z",
          "iopub.status.idle": "2024-08-21T12:18:05.194394Z",
          "shell.execute_reply.started": "2024-08-21T12:18:04.742798Z",
          "shell.execute_reply": "2024-08-21T12:18:05.1932Z"
        },
        "trusted": true,
        "id": "fgRrGL6j5rw4"
      },
      "execution_count": null,
      "outputs": []
    },
    {
      "cell_type": "code",
      "source": [
        "# Calculate the correlation matrix for numerical features\n",
        "corr = data.select_dtypes(exclude=['object']).corr()\n",
        "# Create a heatmap to visualize the correlations\n",
        "plt.subplots(1,1, figsize=(25,25))\n",
        "sns.heatmap(data=corr, cmap ='Oranges', annot = corr, cbar=None)\n",
        "plt.title('Correlation between features and target')\n",
        "plt.show()"
      ],
      "metadata": {
        "execution": {
          "iopub.status.busy": "2024-08-21T12:18:05.196837Z",
          "iopub.execute_input": "2024-08-21T12:18:05.197183Z",
          "iopub.status.idle": "2024-08-21T12:18:08.922931Z",
          "shell.execute_reply.started": "2024-08-21T12:18:05.197154Z",
          "shell.execute_reply": "2024-08-21T12:18:08.921825Z"
        },
        "trusted": true,
        "id": "BK6LFHSF5rw5"
      },
      "execution_count": null,
      "outputs": []
    },
    {
      "cell_type": "code",
      "source": [
        "data.Class.value_counts()"
      ],
      "metadata": {
        "execution": {
          "iopub.status.busy": "2024-08-21T12:18:08.924543Z",
          "iopub.execute_input": "2024-08-21T12:18:08.924986Z",
          "iopub.status.idle": "2024-08-21T12:18:08.938294Z",
          "shell.execute_reply.started": "2024-08-21T12:18:08.924949Z",
          "shell.execute_reply": "2024-08-21T12:18:08.93729Z"
        },
        "trusted": true,
        "id": "rlRf5j3p5rw5"
      },
      "execution_count": null,
      "outputs": []
    },
    {
      "cell_type": "code",
      "source": [
        "# Boxplot to visualize the distribution of the 'Area' feature for each class\n",
        "sns.boxplot(x='Class', y='V1', data=data)"
      ],
      "metadata": {
        "execution": {
          "iopub.status.busy": "2024-08-21T12:18:08.939834Z",
          "iopub.execute_input": "2024-08-21T12:18:08.940247Z",
          "iopub.status.idle": "2024-08-21T12:18:09.169178Z",
          "shell.execute_reply.started": "2024-08-21T12:18:08.940211Z",
          "shell.execute_reply": "2024-08-21T12:18:09.168165Z"
        },
        "trusted": true,
        "id": "VMBASIpO5rw5"
      },
      "execution_count": null,
      "outputs": []
    },
    {
      "cell_type": "code",
      "source": [
        "# Separate features (X) and target (y) variables\n",
        "X = data.drop('Class', axis=1)\n",
        "y = data['Class']\n",
        "\n",
        "# Encode the target variable (y) as integers\n",
        "from sklearn.preprocessing import LabelEncoder\n",
        "label_encoder = LabelEncoder()\n",
        "y = label_encoder.fit_transform(y)\n",
        "\n",
        "# Split the dataset into training and testing sets\n",
        "X_train, X_test, y_train, y_test = train_test_split(X, y, test_size=0.2, random_state=42)\n",
        "\n",
        "# Scale the feature variables\n",
        "scaler = StandardScaler()\n",
        "X_train = scaler.fit_transform(X_train)\n",
        "X_test = scaler.transform(X_test)\n"
      ],
      "metadata": {
        "execution": {
          "iopub.status.busy": "2024-08-21T12:18:09.170592Z",
          "iopub.execute_input": "2024-08-21T12:18:09.17098Z",
          "iopub.status.idle": "2024-08-21T12:18:09.398314Z",
          "shell.execute_reply.started": "2024-08-21T12:18:09.17095Z",
          "shell.execute_reply": "2024-08-21T12:18:09.397148Z"
        },
        "trusted": true,
        "id": "904-Gwpe5rw5"
      },
      "execution_count": null,
      "outputs": []
    },
    {
      "cell_type": "code",
      "source": [
        "# Initialize machine learning models with hyperparameters for GridSearch\n",
        "models = {\n",
        "    'Logistic Regression': {\n",
        "        'model': LogisticRegression(),\n",
        "        'params': {\n",
        "            'C': [0.1, 1, 10],\n",
        "            'solver': [ 'liblinear']\n",
        "            ,'random_state': [42]\n",
        "        }\n",
        "     },\n",
        "    'Decision Tree': {\n",
        "        'model': DecisionTreeClassifier(),\n",
        "        'params': {\n",
        "            'criterion': ['gini', 'entropy'],\n",
        "            'max_depth': [10, 20, 30, None]\n",
        "        }\n",
        "    },\n",
        "    # 'SVM': {\n",
        "    #     'model': SVC(),\n",
        "    #     'params': {\n",
        "    #         'C': [0.1, 1, 10, 100],\n",
        "    #         'kernel': ['linear', 'rbf']\n",
        "    #     }\n",
        "    # },\n",
        "    # 'KNN': {\n",
        "    #     'model': KNeighborsClassifier(),\n",
        "    #     'params': {\n",
        "    #         'n_neighbors': [3, 5, 7, 9],\n",
        "    #         'weights': ['uniform', 'distance']\n",
        "    #     }\n",
        "    #\n",
        "    # },\n",
        "    'xgboost': {\n",
        "        'model': XGBClassifier(),\n",
        "        'params': {\n",
        "            'n_estimators': [50, 100, 200],\n",
        "            'max_depth': [10, 20, 30, None]\n",
        "        }\n",
        "     }\n",
        "}"
      ],
      "metadata": {
        "execution": {
          "iopub.status.busy": "2024-08-21T12:18:09.399606Z",
          "iopub.execute_input": "2024-08-21T12:18:09.399923Z",
          "iopub.status.idle": "2024-08-21T12:18:09.406966Z",
          "shell.execute_reply.started": "2024-08-21T12:18:09.399896Z",
          "shell.execute_reply": "2024-08-21T12:18:09.405895Z"
        },
        "trusted": true,
        "id": "hEtRh_n75rw6"
      },
      "execution_count": null,
      "outputs": []
    },
    {
      "cell_type": "code",
      "source": [
        "# Initialize an empty dictionary to store the best models for each algorithm\n",
        "best_models = {}\n",
        "# Iterate over each model name and its corresponding information\n",
        "for model_name, model_info in models.items():\n",
        "    # Perform Grid Search Cross-Validation to find the best hyperparameters\n",
        "    grid_search = GridSearchCV(model_info['model'], model_info['params'], cv=6, scoring='accuracy')\n",
        "    grid_search.fit(X_train, y_train)\n",
        "    # Store the best estimator (model with optimal hyperparameters) in the dictionary\n",
        "    best_models[model_name] = grid_search.best_estimator_"
      ],
      "metadata": {
        "execution": {
          "iopub.status.busy": "2024-08-21T12:18:09.408573Z",
          "iopub.execute_input": "2024-08-21T12:18:09.409085Z"
        },
        "trusted": true,
        "id": "DZss_Z3V5rw6"
      },
      "execution_count": null,
      "outputs": []
    },
    {
      "cell_type": "code",
      "source": [
        "# Iterate over the best models and print their names and corresponding model objects\n",
        "for model_name, model in best_models.items():\n",
        "    print(f\"Best {model_name}: {model}\")"
      ],
      "metadata": {
        "trusted": true,
        "id": "HngN4Eey5rw6"
      },
      "execution_count": null,
      "outputs": []
    },
    {
      "cell_type": "code",
      "source": [
        "# Iterate through the best models and evaluate their performance\n",
        "for model_name, model in best_models.items():\n",
        "    y_pred = model.predict(X_test)\n",
        "    print(f\"Model: {model_name}\")\n",
        "    print(confusion_matrix(y_test, y_pred))\n",
        "    print(classification_report(y_test, y_pred))\n",
        "    print(f\"Accuracy Score: {accuracy_score(y_test, y_pred) * 100:.2f}%\")"
      ],
      "metadata": {
        "trusted": true,
        "id": "GLP3PYWn5rw6"
      },
      "execution_count": null,
      "outputs": []
    },
    {
      "cell_type": "code",
      "source": [
        "incorrect_indices = [i for i in range(len(y_test)) if y_test[i] != y_pred[i]]"
      ],
      "metadata": {
        "trusted": true,
        "id": "9a9kn8555rw6"
      },
      "execution_count": null,
      "outputs": []
    },
    {
      "cell_type": "code",
      "source": [
        "incorrect_indices"
      ],
      "metadata": {
        "trusted": true,
        "id": "Npjw6HWq5rw6"
      },
      "execution_count": null,
      "outputs": []
    },
    {
      "cell_type": "code",
      "source": [
        "import lime.lime_tabular\n",
        "explainer = lime.lime_tabular.LimeTabularExplainer(X_train ,feature_names = list(data.columns)[:-1], class_names=[0,1])"
      ],
      "metadata": {
        "trusted": true,
        "id": "3wnHQiLp5rw6"
      },
      "execution_count": null,
      "outputs": []
    },
    {
      "cell_type": "code",
      "source": [
        "y_test[incorrect_indices[2]]"
      ],
      "metadata": {
        "trusted": true,
        "id": "os8158M75rw7"
      },
      "execution_count": null,
      "outputs": []
    },
    {
      "cell_type": "code",
      "source": [
        "exp = explainer.explain_instance(X_test[incorrect_indices[1]],best_models['xgboost'].predict_proba)\n",
        "exp.show_in_notebook()"
      ],
      "metadata": {
        "trusted": true,
        "id": "iVTwCXoz5rw7"
      },
      "execution_count": null,
      "outputs": []
    },
    {
      "cell_type": "code",
      "source": [
        "import shap\n",
        "explainer = shap.TreeExplainer(best_models['xgboost'],feature_names=data.columns[:-1])\n",
        "\n",
        "shap_values = explainer(X_test)"
      ],
      "metadata": {
        "trusted": true,
        "id": "urPjtqsx5rw7"
      },
      "execution_count": null,
      "outputs": []
    },
    {
      "cell_type": "code",
      "source": [
        "y_test[incorrect_indices[0]]"
      ],
      "metadata": {
        "trusted": true,
        "id": "5zB6FbHn5rw7"
      },
      "execution_count": null,
      "outputs": []
    },
    {
      "cell_type": "code",
      "source": [
        "from shap import waterfall_plot\n",
        "waterfall_plot(shap_values[incorrect_indices[0]])"
      ],
      "metadata": {
        "trusted": true,
        "id": "zf2UkvUl5rw7"
      },
      "execution_count": null,
      "outputs": []
    },
    {
      "cell_type": "code",
      "source": [
        "shap.summary_plot(shap_values, X_test)"
      ],
      "metadata": {
        "trusted": true,
        "id": "jFU7juK-5rw7"
      },
      "execution_count": null,
      "outputs": []
    },
    {
      "cell_type": "code",
      "source": [
        "from xgboost import plot_tree\n",
        "fig, ax = plt.subplots(figsize=(150, 512))\n",
        "plot_tree(best_models['xgboost'], num_trees=4, ax=ax)\n",
        "plt.savefig(\"temp.pdf\")"
      ],
      "metadata": {
        "trusted": true,
        "id": "IKWqsprI5rw7"
      },
      "execution_count": null,
      "outputs": []
    },
    {
      "cell_type": "code",
      "source": [
        "data"
      ],
      "metadata": {
        "trusted": true,
        "id": "3LyR1pGE5rw7"
      },
      "execution_count": null,
      "outputs": []
    },
    {
      "cell_type": "code",
      "source": [
        "data_reduce = data.drop('Time', axis=1)"
      ],
      "metadata": {
        "trusted": true,
        "id": "fIRzVGDG5rw7"
      },
      "execution_count": null,
      "outputs": []
    },
    {
      "cell_type": "code",
      "source": [
        "# Separate features (X) and target (y) variables\n",
        "X_reduce = data_reduce.drop('Class', axis=1)\n",
        "\n",
        "# Split the dataset into training and testing sets\n",
        "X_train_reduce, X_test_reduce, y_train, y_test = train_test_split(X_reduce, y, test_size=0.2, random_state=42)\n",
        "\n",
        "# Scale the feature variables\n",
        "scaler = StandardScaler()\n",
        "X_train_reduce = scaler.fit_transform(X_train_reduce)\n",
        "X_test_reduce = scaler.transform(X_test_reduce)\n",
        "model=best_models['xgboost']\n",
        "model.fit(X_train_reduce, y_train)\n",
        "y_pred = model.predict(X_test_reduce)\n",
        "print(f\"Model: {model_name}\")\n",
        "print(confusion_matrix(y_test, y_pred))\n",
        "print(classification_report(y_test, y_pred))\n",
        "print(f\"Accuracy Score: {accuracy_score(y_test, y_pred) * 100:.2f}%\")"
      ],
      "metadata": {
        "trusted": true,
        "id": "Gn_gq85-5rw7"
      },
      "execution_count": null,
      "outputs": []
    },
    {
      "cell_type": "code",
      "source": [
        "from tensorflow.keras.optimizers import Adam\n",
        "# Initialize a neural network model\n",
        "model = Sequential()\n",
        "# Add the input layer\n",
        "model.add(Dense(32, activation='relu', input_dim=(X_train_reduce.shape[1])))\n",
        "model.add(Dense(16,activation='relu'))\n",
        "# Add a dropout layer for regularization\n",
        "model.add(Dropout(0.3))\n",
        "# Add the output layer\n",
        "model.add(Dense(1, activation='sigmoid'))\n",
        "# Compile the model\n",
        "model.compile(optimizer=Adam(), loss='binary_crossentropy', metrics=['accuracy'])\n",
        "# Initialize early stopping\n",
        "#early_stopping = EarlyStopping(patience=3)\n",
        "#class weight\n",
        "class_weights = {0: 1.0, 1: 30.0}\n",
        "# Train the model\n",
        "history = model.fit(X_train_reduce, y_train, validation_split=0.2, epochs=100, batch_size=32\n",
        "                    ,class_weight=class_weights)\n",
        "# Evaluate the model\n",
        "loss, accuracy=model.evaluate(X_test_reduce, y_test)\n",
        "print(f'Test Accuracy: {accuracy * 100:.2f}%')\n",
        "\n",
        "y_pred_prob = model.predict(X_test_reduce)\n",
        "\n",
        "# Convert the probabilities to class predictions\n",
        "y_pred = np.argmax(y_pred_prob, axis=1)\n",
        "print(confusion_matrix(y_test, y_pred))\n",
        "print(classification_report(y_test, y_pred))\n"
      ],
      "metadata": {
        "trusted": true,
        "id": "nVcsgzrm5rw7"
      },
      "execution_count": null,
      "outputs": []
    }
  ]
}